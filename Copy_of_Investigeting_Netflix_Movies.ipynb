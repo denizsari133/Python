{
  "nbformat": 4,
  "nbformat_minor": 0,
  "metadata": {
    "colab": {
      "provenance": []
    },
    "kernelspec": {
      "name": "python3",
      "display_name": "Python 3"
    },
    "language_info": {
      "name": "python"
    }
  },
  "cells": [
    {
      "cell_type": "code",
      "execution_count": null,
      "metadata": {
        "id": "juih8-_yy390"
      },
      "outputs": [],
      "source": [
        "import pandas as pd\n",
        "import matplotlib.pyplot as plt\n",
        "netflix_df = pd.read_csv(\"netflix_data.csv\")"
      ]
    },
    {
      "cell_type": "code",
      "source": [
        "# What was the most frequent movie duration in the 1990s?\n",
        "netflix_subset = netflix_df[netflix_df[\"type\"] == \"Movie\"]\n",
        "subset = netflix_subset[(netflix_subset[\"release_year\"] >= 1990)]\n",
        "movies_1990s = subset[(subset[\"release_year\"] < 2000)]\n",
        "\n",
        "duration = 100\n",
        "plt.hist(movies_1990s[\"duration\"])\n",
        "plt.title('Distribution of Movie Durations in the 1990s')\n",
        "plt.xlabel('Duration minutes')\n",
        "plt.ylabel('Number of Movies')\n",
        "plt.show()"
      ],
      "metadata": {
        "id": "qS3LuTfDzHiA"
      },
      "execution_count": null,
      "outputs": []
    },
    {
      "cell_type": "code",
      "source": [
        "#Count the number of short action movies released in the 1990s and save this integer as short_movie_count\n",
        "action_movies_1990s = movies_1990s[movies_1990s[\"genre\"] == \"Action\"]\n",
        "short_movie_count = 0\n",
        "for label, row in action_movies_1990s.iterrows():\n",
        "    if row[\"duration\"] < 90:\n",
        "        short_movie_count = short_movie_count + 1\n",
        "    else:\n",
        "        short_movie_count = short_movie_count\n",
        "print(short_movie_count)"
      ],
      "metadata": {
        "id": "VRgs0NxPzRgj"
      },
      "execution_count": null,
      "outputs": []
    }
  ]
}