{
  "nbformat": 4,
  "nbformat_minor": 0,
  "metadata": {
    "colab": {
      "provenance": []
    },
    "kernelspec": {
      "name": "python3",
      "display_name": "Python 3"
    },
    "language_info": {
      "name": "python"
    }
  },
  "cells": [
    {
      "cell_type": "code",
      "execution_count": null,
      "metadata": {
        "id": "tHn8AlxYxbhq"
      },
      "outputs": [],
      "source": [
        "import pandas as pd\n",
        "import matplotlib.pyplot as plt"
      ]
    },
    {
      "cell_type": "code",
      "source": [
        "#peak for global 'workout' searches\n",
        "df_workout = pd.read_csv(\"data/workout.csv\")\n",
        "\n",
        "plt.figure(figsize=(12, 6))\n",
        "plt.plot(df_workout[\"month\"], df_workout[\"workout_worldwide\"])\n",
        "plt.xticks(rotation=90)\n",
        "plt.show()\n",
        "\n",
        "year_str = \"2020\""
      ],
      "metadata": {
        "id": "N9lgoDYrxyaN"
      },
      "execution_count": null,
      "outputs": []
    },
    {
      "cell_type": "code",
      "source": [
        "#most popular keywords for the current year and during covid\n",
        "plt.figure(figsize=(12, 6))\n",
        "plt.plot(df_keywords[\"month\"], df_keywords[\"home_workout_worldwide\"], label=\"Home workout\")\n",
        "plt.plot(df_keywords[\"month\"], df_keywords[\"gym_workout_worldwide\"], label=\"Gym workout\")\n",
        "plt.plot(df_keywords[\"month\"], df_keywords[\"home_gym_worldwide\"], label=\"Home gym\")\n",
        "plt.xticks(rotation=90)\n",
        "plt.legend()\n",
        "plt.show()\n",
        "\n",
        "peak_covid = \"home workout\"\n",
        "current = \"gym workout\""
      ],
      "metadata": {
        "id": "Tcomd-Cgxz0l"
      },
      "execution_count": null,
      "outputs": []
    },
    {
      "cell_type": "code",
      "source": [
        "#country with the highest interest for workouts\n",
        "df_workout_geo = pd.read_csv(\"data/workout_geo.csv\", index_col = 0)\n",
        "print(df_workout_geo.loc[\"United States\"])\n",
        "print(df_workout_geo.loc[\"Australia\"])\n",
        "print(df_workout_geo.loc[\"Japan\"])\n",
        "\n",
        "top_country = \"United States\""
      ],
      "metadata": {
        "id": "XoV8CFh1yEIj"
      },
      "execution_count": null,
      "outputs": []
    },
    {
      "cell_type": "code",
      "source": [
        "#highest interest in home workouts, Philippines or Malaysia?\n",
        "df_keywords_geo = pd.read_csv(\"data/three_keywords_geo.csv\", index_col = 0)\n",
        "print(df_keywords_geo.loc[\"Philippines\", :])\n",
        "print(df_keywords_geo.loc[\"Malaysia\", :])\n",
        "\n",
        "home_workout_geo = \"Philippines\""
      ],
      "metadata": {
        "id": "vugg8c02yMaP"
      },
      "execution_count": null,
      "outputs": []
    }
  ]
}