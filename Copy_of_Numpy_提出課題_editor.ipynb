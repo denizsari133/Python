{
  "nbformat": 4,
  "nbformat_minor": 0,
  "metadata": {
    "colab": {
      "provenance": []
    },
    "kernelspec": {
      "name": "python3",
      "display_name": "Python 3"
    },
    "language_info": {
      "name": "python"
    }
  },
  "cells": [
    {
      "cell_type": "markdown",
      "source": [
        "# Numpy 提出課題\n",
        "\n",
        "\n",
        "1. Numpyについて学習します。(15問)"
      ],
      "metadata": {
        "id": "Tdf7UKjbqbHr"
      }
    },
    {
      "cell_type": "markdown",
      "source": [
        "**<font color=\"red\">このファイルは、コピーして自分のドライブに保存しなければ、編集が保存されず、課題を提出できません。</font>**\n",
        "\n",
        "**<font color=\"red\">もしまだコピーしていなければ、「事前準備」レッスンの「Chapter 2\n",
        "演習問題、提出課題について」を参考にしながら、左上の「ファイル」から「ドライブにコピーを保存」を選択して、必ずコピーを保存してください。</font>**"
      ],
      "metadata": {
        "id": "j5H1dK-M0K9a"
      }
    },
    {
      "cell_type": "markdown",
      "source": [
        "### 1. Numpyについて学習します。(15問)"
      ],
      "metadata": {
        "id": "xveWh-2oq945"
      }
    },
    {
      "cell_type": "markdown",
      "source": [
        "#### 1.1 「まずはNumpyをインポートし、npという名前で利用できるようにしてください。」"
      ],
      "metadata": {
        "id": "LIqvfiCQyIjK"
      }
    },
    {
      "cell_type": "markdown",
      "source": [
        "<details>\n",
        "<summary>\n",
        "この問題に関連する内容を復習するためのスライド\n",
        "</summary>\n",
        "\n",
        "Numpyの「ライブラリの読み込み方法」節\n",
        "</details>"
      ],
      "metadata": {
        "id": "U8PTR-Aggq07"
      }
    },
    {
      "cell_type": "code",
      "source": [
        "import numpy as np"
      ],
      "metadata": {
        "id": "_9GSYee2yG8d"
      },
      "execution_count": 1,
      "outputs": []
    },
    {
      "cell_type": "markdown",
      "source": [
        "#### 1.2 「101~150の整数を格納した、次元ごとの要素数が(10,5)である二次元配列を作成して、array_1という名前の変数に代入して表示してください。」"
      ],
      "metadata": {
        "id": "JrJjN8eWyHWW"
      }
    },
    {
      "cell_type": "markdown",
      "source": [
        "<details>\n",
        "<summary>\n",
        "この問題に関連する内容を復習するためのスライド\n",
        "</summary>\n",
        "\n",
        "Numpyの「ndarrayの作成方法」・「ndarrrayの次元数」節\n",
        "</details>"
      ],
      "metadata": {
        "id": "pVQtV6QChALQ"
      }
    },
    {
      "cell_type": "code",
      "source": [
        "array_1 = np.arange(101, 151).reshape(10,5)\n",
        "array_1"
      ],
      "metadata": {
        "id": "UajcJFRbrElA",
        "colab": {
          "base_uri": "https://localhost:8080/"
        },
        "outputId": "853959b2-1239-49c4-ec41-637405dc603f"
      },
      "execution_count": 2,
      "outputs": [
        {
          "output_type": "execute_result",
          "data": {
            "text/plain": [
              "array([[101, 102, 103, 104, 105],\n",
              "       [106, 107, 108, 109, 110],\n",
              "       [111, 112, 113, 114, 115],\n",
              "       [116, 117, 118, 119, 120],\n",
              "       [121, 122, 123, 124, 125],\n",
              "       [126, 127, 128, 129, 130],\n",
              "       [131, 132, 133, 134, 135],\n",
              "       [136, 137, 138, 139, 140],\n",
              "       [141, 142, 143, 144, 145],\n",
              "       [146, 147, 148, 149, 150]])"
            ]
          },
          "metadata": {},
          "execution_count": 2
        }
      ]
    },
    {
      "cell_type": "markdown",
      "source": [
        "#### 1.3 「1.2と同様に、151~200の整数を格納した、次元ごとの要素数が(10,5)である二次元配列を作成して、array_2という名前の変数に代入して表示してください。」"
      ],
      "metadata": {
        "id": "mOHHltbNwTPb"
      }
    },
    {
      "cell_type": "markdown",
      "source": [
        "<details>\n",
        "<summary>\n",
        "この問題に関連する内容を復習するためのスライド\n",
        "</summary>\n",
        "\n",
        "Numpyの「ndarrayの作成方法」・「ndarrrayの次元数」節\n",
        "</details>"
      ],
      "metadata": {
        "id": "Q-b1RIyrvEn1"
      }
    },
    {
      "cell_type": "code",
      "source": [
        "array_2 = np.arange(151, 201).reshape(10,5)\n",
        "array_2"
      ],
      "metadata": {
        "id": "CN-4MoeKsYOl",
        "colab": {
          "base_uri": "https://localhost:8080/"
        },
        "outputId": "dd982e7c-1ac9-4fd9-c9f2-11cc6115013f"
      },
      "execution_count": 3,
      "outputs": [
        {
          "output_type": "execute_result",
          "data": {
            "text/plain": [
              "array([[151, 152, 153, 154, 155],\n",
              "       [156, 157, 158, 159, 160],\n",
              "       [161, 162, 163, 164, 165],\n",
              "       [166, 167, 168, 169, 170],\n",
              "       [171, 172, 173, 174, 175],\n",
              "       [176, 177, 178, 179, 180],\n",
              "       [181, 182, 183, 184, 185],\n",
              "       [186, 187, 188, 189, 190],\n",
              "       [191, 192, 193, 194, 195],\n",
              "       [196, 197, 198, 199, 200]])"
            ]
          },
          "metadata": {},
          "execution_count": 3
        }
      ]
    },
    {
      "cell_type": "markdown",
      "source": [
        "# *1.4 「array_1の上から4行目のみを表示してください。」\n",
        "\n",
        "---\n",
        "\n"
      ],
      "metadata": {
        "id": "RoUbGiaEwSiP"
      }
    },
    {
      "cell_type": "markdown",
      "source": [
        "<details>\n",
        "<summary>\n",
        "この問題に関連する内容を復習するためのスライド\n",
        "</summary>\n",
        "\n",
        "Numpyの「参照方法について」節\n",
        "</details>"
      ],
      "metadata": {
        "id": "WTga5EK2vKLP"
      }
    },
    {
      "cell_type": "code",
      "source": [
        "array_1[3,:]"
      ],
      "metadata": {
        "id": "fglmsY3guT3g",
        "colab": {
          "base_uri": "https://localhost:8080/"
        },
        "outputId": "a632ced3-9e18-4fec-e322-0aaab5746bfc"
      },
      "execution_count": 4,
      "outputs": [
        {
          "output_type": "execute_result",
          "data": {
            "text/plain": [
              "array([116, 117, 118, 119, 120])"
            ]
          },
          "metadata": {},
          "execution_count": 4
        }
      ]
    },
    {
      "cell_type": "markdown",
      "source": [],
      "metadata": {
        "id": "NcGJINF9k-Xz"
      }
    },
    {
      "cell_type": "markdown",
      "source": [
        "1.5 「array_2の左から3列目を表示してください。」"
      ],
      "metadata": {
        "id": "F5jKBHrfvdcY"
      }
    },
    {
      "cell_type": "code",
      "source": [
        "array_2[:,2]"
      ],
      "metadata": {
        "colab": {
          "base_uri": "https://localhost:8080/"
        },
        "id": "jZHHWwRfk--l",
        "outputId": "df7e489f-935b-4ba5-de95-79aa13bc3517"
      },
      "execution_count": 5,
      "outputs": [
        {
          "output_type": "execute_result",
          "data": {
            "text/plain": [
              "array([153, 158, 163, 168, 173, 178, 183, 188, 193, 198])"
            ]
          },
          "metadata": {},
          "execution_count": 5
        }
      ]
    },
    {
      "cell_type": "markdown",
      "source": [
        "<details>\n",
        "<summary>\n",
        "この問題に関連する内容を復習するためのスライド\n",
        "</summary>\n",
        "\n",
        "Numpyの「参照方法について」節\n",
        "</details>"
      ],
      "metadata": {
        "id": "AuBOpD36vOCI"
      }
    },
    {
      "cell_type": "code",
      "source": [],
      "metadata": {
        "id": "-kKOBfB6wU7v"
      },
      "execution_count": null,
      "outputs": []
    },
    {
      "cell_type": "markdown",
      "source": [
        "#### 1.6 「array_1の上から3行目・左から4列目の数値を表示してください。」"
      ],
      "metadata": {
        "id": "X5SMBK9iwVRT"
      }
    },
    {
      "cell_type": "markdown",
      "source": [
        "<details>\n",
        "<summary>\n",
        "この問題に関連する内容を復習するためのスライド\n",
        "</summary>\n",
        "\n",
        "Numpyの「参照方法について」節\n",
        "</details>"
      ],
      "metadata": {
        "id": "hoGVc_WnvOc8"
      }
    },
    {
      "cell_type": "code",
      "source": [
        "array_1[2, 3]"
      ],
      "metadata": {
        "id": "7u0vMjbxvdyM",
        "colab": {
          "base_uri": "https://localhost:8080/"
        },
        "outputId": "d37a502c-50df-4142-f16f-8d10ec2b9ec1"
      },
      "execution_count": 6,
      "outputs": [
        {
          "output_type": "execute_result",
          "data": {
            "text/plain": [
              "114"
            ]
          },
          "metadata": {},
          "execution_count": 6
        }
      ]
    },
    {
      "cell_type": "markdown",
      "source": [
        "#### 1.7 「array_1の上から4\\~7行・左から4\\~5列に含まれるような配列を表示してください。」"
      ],
      "metadata": {
        "id": "i1OWyEZ1veh3"
      }
    },
    {
      "cell_type": "markdown",
      "source": [
        "<details>\n",
        "<summary>\n",
        "この問題に関連する内容を復習するためのスライド\n",
        "</summary>\n",
        "\n",
        "Numpyの「参照方法について」節\n",
        "</details>"
      ],
      "metadata": {
        "id": "BFXaswBVvP9j"
      }
    },
    {
      "cell_type": "code",
      "source": [
        "array_1[3:7, 3:5]"
      ],
      "metadata": {
        "id": "7dTbkEJeve9p",
        "colab": {
          "base_uri": "https://localhost:8080/"
        },
        "outputId": "459d638b-70d2-4b91-c4aa-a0fb32de2ef8"
      },
      "execution_count": 7,
      "outputs": [
        {
          "output_type": "execute_result",
          "data": {
            "text/plain": [
              "array([[119, 120],\n",
              "       [124, 125],\n",
              "       [129, 130],\n",
              "       [134, 135]])"
            ]
          },
          "metadata": {},
          "execution_count": 7
        }
      ]
    },
    {
      "cell_type": "markdown",
      "source": [
        "#### 1.8 「array_1の要素がそれぞれ3の倍数であるかどうかを真偽値で表した配列を作成し、変数に代入して表示してください。」"
      ],
      "metadata": {
        "id": "spoaiwt8vhfX"
      }
    },
    {
      "cell_type": "markdown",
      "source": [
        "<details>\n",
        "<summary>\n",
        "この問題に関連する内容を復習するためのスライド\n",
        "</summary>\n",
        "\n",
        "Numpyの「参照方法について」・「配列の論理演算方法」節\n",
        "</details>"
      ],
      "metadata": {
        "id": "16qt5NFfvSrV"
      }
    },
    {
      "cell_type": "code",
      "source": [
        "array_1 = np.array(array_1)\n",
        "array_1 % 3 == 0"
      ],
      "metadata": {
        "id": "awG0Pzk6vh3P",
        "colab": {
          "base_uri": "https://localhost:8080/"
        },
        "outputId": "7ad40ec5-f2b7-433a-a0bf-1080b8a13b49"
      },
      "execution_count": 8,
      "outputs": [
        {
          "output_type": "execute_result",
          "data": {
            "text/plain": [
              "array([[False,  True, False, False,  True],\n",
              "       [False, False,  True, False, False],\n",
              "       [ True, False, False,  True, False],\n",
              "       [False,  True, False, False,  True],\n",
              "       [False, False,  True, False, False],\n",
              "       [ True, False, False,  True, False],\n",
              "       [False,  True, False, False,  True],\n",
              "       [False, False,  True, False, False],\n",
              "       [ True, False, False,  True, False],\n",
              "       [False,  True, False, False,  True]])"
            ]
          },
          "metadata": {},
          "execution_count": 8
        }
      ]
    },
    {
      "cell_type": "markdown",
      "source": [
        "#### 1.9 「1.8で作成した配列を用いて、array_1の中で3の倍数である要素を格納した配列を作成し、変数に代入して表示してください。」"
      ],
      "metadata": {
        "id": "KKr0MM6DvkuY"
      }
    },
    {
      "cell_type": "markdown",
      "source": [
        "<details>\n",
        "<summary>\n",
        "この問題に関連する内容を復習するためのスライド\n",
        "</summary>\n",
        "\n",
        "Numpyの「参照方法について」・「配列の論理演算方法」節\n",
        "</details>"
      ],
      "metadata": {
        "id": "A9k7_7NXvZRw"
      }
    },
    {
      "cell_type": "code",
      "source": [
        "array_1_multiple_of_three = array_1[array_1 % 3 == 0]\n",
        "print(array_1_multiple_of_three)\n"
      ],
      "metadata": {
        "id": "t6iZBYcjvlND",
        "colab": {
          "base_uri": "https://localhost:8080/"
        },
        "outputId": "daf9767a-37ce-4f20-9eed-5491d480aae5"
      },
      "execution_count": 9,
      "outputs": [
        {
          "output_type": "stream",
          "name": "stdout",
          "text": [
            "[102 105 108 111 114 117 120 123 126 129 132 135 138 141 144 147 150]\n"
          ]
        }
      ]
    },
    {
      "cell_type": "markdown",
      "source": [
        "#### 1.10 「『array_2の要素の中で3の倍数であるもの』と同じ位置にあるarray_1の要素を格納した配列を作成し、変数に代入して表示してください。」"
      ],
      "metadata": {
        "id": "CR8pdgkBv4hQ"
      }
    },
    {
      "cell_type": "markdown",
      "source": [
        "<details>\n",
        "<summary>\n",
        "この問題に関連する内容を復習するためのスライド\n",
        "</summary>\n",
        "\n",
        "Numpyの「参照方法について」・「配列の論理演算方法」節\n",
        "</details>"
      ],
      "metadata": {
        "id": "zSZBe_lWvaKT"
      }
    },
    {
      "cell_type": "code",
      "source": [
        "array_2_multiples_of_three = array_2[array_2 % 3 == 0]\n",
        "array_1_corresponding_elements = array_1[array_2 % 3 == 0]\n",
        "print(array_1_corresponding_elements)\n"
      ],
      "metadata": {
        "id": "7dB3wdH_v403",
        "colab": {
          "base_uri": "https://localhost:8080/"
        },
        "outputId": "9faaf68e-1fd0-4b5b-e09d-e995008617a1"
      },
      "execution_count": 10,
      "outputs": [
        {
          "output_type": "stream",
          "name": "stdout",
          "text": [
            "[103 106 109 112 115 118 121 124 127 130 133 136 139 142 145 148]\n"
          ]
        }
      ]
    },
    {
      "cell_type": "markdown",
      "source": [
        "#### 1.11 「array_1の要素の中で2の倍数、または5の倍数の要素を格納した配列を作成し、変数に代入して表示してください。」"
      ],
      "metadata": {
        "id": "P7EUlcvTxhso"
      }
    },
    {
      "cell_type": "markdown",
      "source": [
        "<details>\n",
        "<summary>\n",
        "この問題に関連する内容を復習するためのスライド\n",
        "</summary>\n",
        "\n",
        "Numpyの「参照方法について」・「配列の論理演算方法」節\n",
        "</details>"
      ],
      "metadata": {
        "id": "4-Ot-dv9vasO"
      }
    },
    {
      "cell_type": "code",
      "source": [
        "array_1_multiple_of_two_or_five = array_1[(array_1 % 2 == 0) | (array_1 % 5 == 0)]\n",
        "print(array_1_multiple_of_two_or_five)"
      ],
      "metadata": {
        "id": "VETu2c6hxiAp",
        "colab": {
          "base_uri": "https://localhost:8080/"
        },
        "outputId": "dc488f5e-3d3e-4d6b-f4a4-cee63dea7835"
      },
      "execution_count": 11,
      "outputs": [
        {
          "output_type": "stream",
          "name": "stdout",
          "text": [
            "[102 104 105 106 108 110 112 114 115 116 118 120 122 124 125 126 128 130\n",
            " 132 134 135 136 138 140 142 144 145 146 148 150]\n"
          ]
        }
      ]
    },
    {
      "cell_type": "markdown",
      "source": [
        "#### 1.12 「array_1とarray_2を縦に結合したような配列を作成し、表示してください。」"
      ],
      "metadata": {
        "id": "7m83LL69xDb_"
      }
    },
    {
      "cell_type": "markdown",
      "source": [
        "<details>\n",
        "<summary>\n",
        "この問題に関連する内容を復習するためのスライド\n",
        "</summary>\n",
        "\n",
        "Numpyの「配列の結合・分割方法」節\n",
        "</details>"
      ],
      "metadata": {
        "id": "XqG4sX3avc3A"
      }
    },
    {
      "cell_type": "code",
      "source": [
        "np.concatenate([array_1, array_2],axis=0)"
      ],
      "metadata": {
        "id": "fWPzydQbwKmJ",
        "colab": {
          "base_uri": "https://localhost:8080/"
        },
        "outputId": "8631d0e2-6f46-4cc9-d486-483a71fd5544"
      },
      "execution_count": 12,
      "outputs": [
        {
          "output_type": "execute_result",
          "data": {
            "text/plain": [
              "array([[101, 102, 103, 104, 105],\n",
              "       [106, 107, 108, 109, 110],\n",
              "       [111, 112, 113, 114, 115],\n",
              "       [116, 117, 118, 119, 120],\n",
              "       [121, 122, 123, 124, 125],\n",
              "       [126, 127, 128, 129, 130],\n",
              "       [131, 132, 133, 134, 135],\n",
              "       [136, 137, 138, 139, 140],\n",
              "       [141, 142, 143, 144, 145],\n",
              "       [146, 147, 148, 149, 150],\n",
              "       [151, 152, 153, 154, 155],\n",
              "       [156, 157, 158, 159, 160],\n",
              "       [161, 162, 163, 164, 165],\n",
              "       [166, 167, 168, 169, 170],\n",
              "       [171, 172, 173, 174, 175],\n",
              "       [176, 177, 178, 179, 180],\n",
              "       [181, 182, 183, 184, 185],\n",
              "       [186, 187, 188, 189, 190],\n",
              "       [191, 192, 193, 194, 195],\n",
              "       [196, 197, 198, 199, 200]])"
            ]
          },
          "metadata": {},
          "execution_count": 12
        }
      ]
    },
    {
      "cell_type": "markdown",
      "source": [
        "#### 1.13 「array_1とarray_2を横に結合したような配列を作成し、表示してください。」"
      ],
      "metadata": {
        "id": "xHp_duKZxEGr"
      }
    },
    {
      "cell_type": "markdown",
      "source": [
        "<details>\n",
        "<summary>\n",
        "この問題に関連する内容を復習するためのスライド\n",
        "</summary>\n",
        "\n",
        "Numpyの「配列の結合・分割方法」節\n",
        "</details>"
      ],
      "metadata": {
        "id": "9PVevD27vjUQ"
      }
    },
    {
      "cell_type": "code",
      "source": [
        "array = np.concatenate([array_1, array_2],axis=1)\n",
        "print(array)"
      ],
      "metadata": {
        "id": "9F4nFagqxEWO",
        "colab": {
          "base_uri": "https://localhost:8080/"
        },
        "outputId": "fca53aff-152c-4de2-c267-0523737736cb"
      },
      "execution_count": 13,
      "outputs": [
        {
          "output_type": "stream",
          "name": "stdout",
          "text": [
            "[[101 102 103 104 105 151 152 153 154 155]\n",
            " [106 107 108 109 110 156 157 158 159 160]\n",
            " [111 112 113 114 115 161 162 163 164 165]\n",
            " [116 117 118 119 120 166 167 168 169 170]\n",
            " [121 122 123 124 125 171 172 173 174 175]\n",
            " [126 127 128 129 130 176 177 178 179 180]\n",
            " [131 132 133 134 135 181 182 183 184 185]\n",
            " [136 137 138 139 140 186 187 188 189 190]\n",
            " [141 142 143 144 145 191 192 193 194 195]\n",
            " [146 147 148 149 150 196 197 198 199 200]]\n"
          ]
        }
      ]
    },
    {
      "cell_type": "markdown",
      "source": [
        "\n",
        "\n",
        "\n",
        "\n",
        "#### 1.14 「array_1とarray_2を上下に2つに分解したような二つの配列を表示してください。」"
      ],
      "metadata": {
        "id": "C1hQcGYsxF1w"
      }
    },
    {
      "cell_type": "markdown",
      "source": [
        "<details>\n",
        "<summary>\n",
        "この問題に関連する内容を復習するためのスライド\n",
        "</summary>\n",
        "\n",
        "Numpyの「配列の結合・分割方法」節\n",
        "</details>"
      ],
      "metadata": {
        "id": "Mhol80u6vjvu"
      }
    },
    {
      "cell_type": "code",
      "source": [
        "#old answer\n",
        "combined_array = np.vstack((array_1, array_2))\n",
        "array_split = np.vsplit(combined_array, 2)\n",
        "display(array_split[0])\n",
        "display(array_split[1])"
      ],
      "metadata": {
        "id": "yjlj8HVBxGHr",
        "colab": {
          "base_uri": "https://localhost:8080/",
          "height": 357
        },
        "outputId": "20cbce55-d8f0-4c68-8452-d52814608e7f"
      },
      "execution_count": null,
      "outputs": [
        {
          "output_type": "display_data",
          "data": {
            "text/plain": [
              "array([[101, 102, 103, 104, 105],\n",
              "       [106, 107, 108, 109, 110],\n",
              "       [111, 112, 113, 114, 115],\n",
              "       [116, 117, 118, 119, 120],\n",
              "       [121, 122, 123, 124, 125],\n",
              "       [126, 127, 128, 129, 130],\n",
              "       [131, 132, 133, 134, 135],\n",
              "       [136, 137, 138, 139, 140],\n",
              "       [141, 142, 143, 144, 145],\n",
              "       [146, 147, 148, 149, 150]])"
            ]
          },
          "metadata": {}
        },
        {
          "output_type": "display_data",
          "data": {
            "text/plain": [
              "array([[151, 152, 153, 154, 155],\n",
              "       [156, 157, 158, 159, 160],\n",
              "       [161, 162, 163, 164, 165],\n",
              "       [166, 167, 168, 169, 170],\n",
              "       [171, 172, 173, 174, 175],\n",
              "       [176, 177, 178, 179, 180],\n",
              "       [181, 182, 183, 184, 185],\n",
              "       [186, 187, 188, 189, 190],\n",
              "       [191, 192, 193, 194, 195],\n",
              "       [196, 197, 198, 199, 200]])"
            ]
          },
          "metadata": {}
        }
      ]
    },
    {
      "cell_type": "code",
      "source": [
        "#new answer\n",
        "np.vsplit(array_1, 2)\n",
        "np.vsplit(array_2, 2)"
      ],
      "metadata": {
        "colab": {
          "base_uri": "https://localhost:8080/"
        },
        "id": "9GRGksqwTjfU",
        "outputId": "18b8443d-88e0-44ca-fbfb-425eb98d23e9"
      },
      "execution_count": 15,
      "outputs": [
        {
          "output_type": "execute_result",
          "data": {
            "text/plain": [
              "[array([[151, 152, 153, 154, 155],\n",
              "        [156, 157, 158, 159, 160],\n",
              "        [161, 162, 163, 164, 165],\n",
              "        [166, 167, 168, 169, 170],\n",
              "        [171, 172, 173, 174, 175]]),\n",
              " array([[176, 177, 178, 179, 180],\n",
              "        [181, 182, 183, 184, 185],\n",
              "        [186, 187, 188, 189, 190],\n",
              "        [191, 192, 193, 194, 195],\n",
              "        [196, 197, 198, 199, 200]])]"
            ]
          },
          "metadata": {},
          "execution_count": 15
        }
      ]
    },
    {
      "cell_type": "markdown",
      "source": [
        "#### 1.15 「array_2の各列の最小値を表示してください。」"
      ],
      "metadata": {
        "id": "_2IM7-0kxUPM"
      }
    },
    {
      "cell_type": "markdown",
      "source": [
        "<details>\n",
        "<summary>\n",
        "この問題に関連する内容を復習するためのスライド\n",
        "</summary>\n",
        "\n",
        "Numpyの「配列の統計量計算方法」節\n",
        "</details>"
      ],
      "metadata": {
        "id": "gmhHXu3NvmRO"
      }
    },
    {
      "cell_type": "code",
      "source": [
        "array_2 = np.array(array_2)\n",
        "np.min(array_2, axis=0)"
      ],
      "metadata": {
        "id": "olmsyAjNxQiv",
        "colab": {
          "base_uri": "https://localhost:8080/"
        },
        "outputId": "a4ead4c1-f4dc-4694-ea8b-464e724b1cb7"
      },
      "execution_count": null,
      "outputs": [
        {
          "output_type": "execute_result",
          "data": {
            "text/plain": [
              "array([151, 152, 153, 154, 155])"
            ]
          },
          "metadata": {},
          "execution_count": 87
        }
      ]
    },
    {
      "cell_type": "markdown",
      "source": [
        "#### 1.16 「array_1の要素の中で3の倍数であるものの数をカウントして、表示してください。」"
      ],
      "metadata": {
        "id": "REMQf2DXzhLO"
      }
    },
    {
      "cell_type": "markdown",
      "source": [
        "<details>\n",
        "<summary>\n",
        "この問題に関連する内容を復習するためのスライド\n",
        "</summary>\n",
        "\n",
        "Numpyの「その他よく使用するメソッド」節\n",
        "</details>"
      ],
      "metadata": {
        "id": "_N68b5k3vvmR"
      }
    },
    {
      "cell_type": "code",
      "source": [
        "array_1 = np.array(array_1)\n",
        "np.count_nonzero(array_1 % 3 == 0)"
      ],
      "metadata": {
        "id": "f4H29iu4zhcK",
        "colab": {
          "base_uri": "https://localhost:8080/"
        },
        "outputId": "6552bd20-b3ec-4822-e29e-e35dd2110d0d"
      },
      "execution_count": null,
      "outputs": [
        {
          "output_type": "execute_result",
          "data": {
            "text/plain": [
              "17"
            ]
          },
          "metadata": {},
          "execution_count": 90
        }
      ]
    }
  ]
}