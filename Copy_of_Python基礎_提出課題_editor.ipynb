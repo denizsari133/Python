{
  "nbformat": 4,
  "nbformat_minor": 0,
  "metadata": {
    "colab": {
      "provenance": []
    },
    "kernelspec": {
      "name": "python3",
      "display_name": "Python 3"
    },
    "language_info": {
      "name": "python"
    }
  },
  "cells": [
    {
      "cell_type": "markdown",
      "source": [
        "# Python基礎 確認問題\n",
        "\n",
        "\n",
        "1. 変数について学習します。(5問)\n",
        "2. 構文について学習します。 (5問)\n",
        "3. 関数・クラスについて学習します。 (5問)\n",
        "\n",
        "\n",
        "**解答は参考例なので、コードが完全一致している必要はありません。**"
      ],
      "metadata": {
        "id": "jg6fbFxfUhVC"
      }
    },
    {
      "cell_type": "markdown",
      "source": [
        "**<font color=\"red\">このファイルは、コピーして自分のドライブに保存しなければ、編集が保存されず、課題を提出できません。</font>**\n",
        "\n",
        "**<font color=\"red\">もしまだコピーしていなければ、「事前準備」レッスンの「Chapter 2\n",
        "演習問題、提出課題について」を参考にしながら、左上の「ファイル」から「ドライブにコピーを保存」を選択して、必ずコピーを保存してください。</font>**"
      ],
      "metadata": {
        "id": "nmMtnEzL0Qia"
      }
    },
    {
      "cell_type": "markdown",
      "metadata": {
        "id": "wcFT_1J5QDzb"
      },
      "source": [
        "## 1. 変数の四則演算について学習します。　(5問)"
      ]
    },
    {
      "cell_type": "markdown",
      "metadata": {
        "id": "MYPJiC49R2Ei"
      },
      "source": [
        "### 1.1 「$137$を$3$乗したものに$145$を足した結果を変数に代入してください。更に、それを$8$で割った整数部分を別の変数に代入して、表示してください。」"
      ]
    },
    {
      "cell_type": "markdown",
      "source": [
        "<details>\n",
        "<summary>\n",
        "この問題に関連する内容を復習するためのスライド\n",
        "</summary>\n",
        "\n",
        "変数の「変数の四則演算」節\n",
        "</details>"
      ],
      "metadata": {
        "id": "bI2H1UAA-9zq"
      }
    },
    {
      "cell_type": "code",
      "metadata": {
        "id": "ZNOdvJ6fSUrj",
        "colab": {
          "base_uri": "https://localhost:8080/"
        },
        "outputId": "43885b2d-0440-48ea-bcab-19864e139924"
      },
      "source": [
        "a = 137**3 + 145\n",
        "b = a // 8\n",
        "\n",
        "print(b)"
      ],
      "execution_count": null,
      "outputs": [
        {
          "output_type": "stream",
          "name": "stdout",
          "text": [
            "321437\n"
          ]
        }
      ]
    },
    {
      "cell_type": "markdown",
      "source": [
        "### 1.2 「次のlist_1に「10」という数字を追加して、「5」という数字を削除してください。その後、list_1を表示してください。」"
      ],
      "metadata": {
        "id": "EgPfMpoDBb9z"
      }
    },
    {
      "cell_type": "markdown",
      "source": [
        "<details>\n",
        "<summary>\n",
        "この問題に関連する内容を復習するためのスライド\n",
        "</summary>\n",
        "\n",
        "変数の「リスト」節\n",
        "</details>"
      ],
      "metadata": {
        "id": "0aPiG8ty_Ee3"
      }
    },
    {
      "cell_type": "code",
      "source": [
        "# こちらのセルを実行してください。\n",
        "list_1 = [2, 4, 5, 6, 8]\n",
        "list_1.append(10)\n",
        "list_1.remove(5)\n",
        "\n",
        "print(list_1)"
      ],
      "metadata": {
        "id": "E1bERileBfXr",
        "colab": {
          "base_uri": "https://localhost:8080/"
        },
        "outputId": "2e2b3097-0240-4da8-8db7-2b85931e73d9"
      },
      "execution_count": null,
      "outputs": [
        {
          "output_type": "stream",
          "name": "stdout",
          "text": [
            "[2, 4, 6, 8, 10]\n"
          ]
        }
      ]
    },
    {
      "cell_type": "code",
      "source": [],
      "metadata": {
        "id": "4gtjOGJwYv_A"
      },
      "execution_count": null,
      "outputs": []
    },
    {
      "cell_type": "markdown",
      "source": [
        "### 1.3 「次のlist_1の2番目と4番目を要素に持つリストを、スライスを用いて表示してください。」"
      ],
      "metadata": {
        "id": "YZp1A-1gB4SK"
      }
    },
    {
      "cell_type": "markdown",
      "source": [
        "<details>\n",
        "<summary>\n",
        "この問題に関連する内容を復習するためのスライド\n",
        "</summary>\n",
        "\n",
        "変数の「リスト」節\n",
        "</details>"
      ],
      "metadata": {
        "id": "dRuqjci9_HjE"
      }
    },
    {
      "cell_type": "code",
      "source": [
        "# こちらのセルを実行してください。\n",
        "list_1 = [2, 4, 6, 8, 10]"
      ],
      "metadata": {
        "id": "HhsXUq5VB2vA"
      },
      "execution_count": null,
      "outputs": []
    },
    {
      "cell_type": "code",
      "source": [
        "list_1[1:4:2]"
      ],
      "metadata": {
        "id": "UYieVUHLY2Yt",
        "colab": {
          "base_uri": "https://localhost:8080/"
        },
        "outputId": "a9c94ff4-7986-45e1-c4d5-adcafe0e3e51"
      },
      "execution_count": null,
      "outputs": [
        {
          "output_type": "execute_result",
          "data": {
            "text/plain": [
              "[4, 8]"
            ]
          },
          "metadata": {},
          "execution_count": 6
        }
      ]
    },
    {
      "cell_type": "markdown",
      "source": [
        "### 1.4 「次のdict_1に、「文字列」をキーに持ち、「車」をバリューに持つ関係を追加してください。その後、追加後のdict_1を表示してください。」"
      ],
      "metadata": {
        "id": "_0SxO-mVCHEY"
      }
    },
    {
      "cell_type": "markdown",
      "source": [
        "<details>\n",
        "<summary>\n",
        "この問題に関連する内容を復習するためのスライド\n",
        "</summary>\n",
        "\n",
        "変数の「辞書」節\n",
        "</details>"
      ],
      "metadata": {
        "id": "3_fGNuMP_Koi"
      }
    },
    {
      "cell_type": "code",
      "source": [
        "# こちらのセルを実行してください。\n",
        "dict_1 = {'整数': 1, '小数': 1.5}\n",
        "dict_1['文字例'] = '車'\n",
        "\n",
        "print(dict_1)\n"
      ],
      "metadata": {
        "id": "w-Y3apbPB_Er",
        "colab": {
          "base_uri": "https://localhost:8080/"
        },
        "outputId": "c60e38d1-04cb-46cb-c1d8-a06dddee99d6"
      },
      "execution_count": null,
      "outputs": [
        {
          "output_type": "stream",
          "name": "stdout",
          "text": [
            "{'整数': 1, '小数': 1.5, '文字例': '車'}\n"
          ]
        }
      ]
    },
    {
      "cell_type": "code",
      "source": [],
      "metadata": {
        "id": "-pm5_aR4ZEkl"
      },
      "execution_count": null,
      "outputs": []
    },
    {
      "cell_type": "markdown",
      "source": [
        "### 1.5 「次のtuple_1の最後の3つの要素を1つおきにスライスによって切り取って変数に代入し、それを表示してください。」"
      ],
      "metadata": {
        "id": "7DlIWgoySYA5"
      }
    },
    {
      "cell_type": "markdown",
      "source": [
        "<details>\n",
        "<summary>\n",
        "この問題に関連する内容を復習するためのスライド\n",
        "</summary>\n",
        "\n",
        "変数の「タプル・セット」節\n",
        "</details>"
      ],
      "metadata": {
        "id": "7WI_PeAd_NJM"
      }
    },
    {
      "cell_type": "code",
      "source": [
        "# こちらのセルを実行してください。\n",
        "tuple_1 = (3, '整数', 1.5, '小数', '車', '文字列')\n",
        "\n",
        "print(tuple_1[3::2])"
      ],
      "metadata": {
        "id": "KPymiSxESXUp",
        "colab": {
          "base_uri": "https://localhost:8080/"
        },
        "outputId": "06c66954-6b1d-49b8-adf3-abb837cb927b"
      },
      "execution_count": null,
      "outputs": [
        {
          "output_type": "stream",
          "name": "stdout",
          "text": [
            "('小数', '文字列')\n"
          ]
        }
      ]
    },
    {
      "cell_type": "code",
      "source": [],
      "metadata": {
        "id": "apU-8DiOZNxH"
      },
      "execution_count": null,
      "outputs": []
    },
    {
      "cell_type": "markdown",
      "source": [
        "## 2. 構文について学習します。　(5問)"
      ],
      "metadata": {
        "id": "olImArv1Df4e"
      }
    },
    {
      "cell_type": "markdown",
      "source": [
        "### 2.1 「次のnum_1がlist_2に含まれていたら『このリストはlist_2の中に存在しています』、list_3に含まれていたら『このリストはlist_3の中に存在しています』、どちらにも含まれていなかったら『この数字はどのリストにも存在していません』と表示してください。」"
      ],
      "metadata": {
        "id": "qedPOg3Nfymr"
      }
    },
    {
      "cell_type": "markdown",
      "source": [
        "<details>\n",
        "<summary>\n",
        "この問題に関連する内容を復習するためのスライド\n",
        "</summary>\n",
        "\n",
        "構文の「if文」節\n",
        "</details>"
      ],
      "metadata": {
        "id": "SuX2ySQA_Rac"
      }
    },
    {
      "cell_type": "code",
      "source": [
        "# こちらのセルを実行してください。\n",
        "num_1 = 487\n",
        "list_2 = [123, 345, 12, 678]\n",
        "list_3 = [34, 23, 487, 298]\n",
        "\n",
        "if num_1 in list_2:\n",
        "    print('このリストはlist_2の中に存在しています')\n",
        "elif num_1 in list_3:\n",
        "    print('このリストはlist_3の中に存在しています')\n",
        "else:\n",
        "    print('この数字はどのリストにも存在していません')\n"
      ],
      "metadata": {
        "id": "pdHLePjef2T6",
        "colab": {
          "base_uri": "https://localhost:8080/"
        },
        "outputId": "e1491862-dace-4e4a-9e16-7b0145800372"
      },
      "execution_count": null,
      "outputs": [
        {
          "output_type": "stream",
          "name": "stdout",
          "text": [
            "このリストはlist_3の中に存在しています\n"
          ]
        }
      ]
    },
    {
      "cell_type": "code",
      "source": [],
      "metadata": {
        "id": "zYZeL6w0ZTP6"
      },
      "execution_count": null,
      "outputs": []
    },
    {
      "cell_type": "markdown",
      "source": [
        "### 2.2 「次のnum_2が3の倍数である時、さらにnum_2が400以上かどうかをif文を用いて調べ、400以上ならば『この数字は3の倍数で400よりも大きいです』、400未満ならば『この数字は3の倍数で400よりも小さいです』と表示してください。3の倍数でなかった時は、同様に400以上かどうかを調べ、400以上ならば『この数字は3の倍数ではなく400よりも大きいです』、400未満ならば『この数字は3の倍数ではなく400よりも小さいです』と表示してください。」"
      ],
      "metadata": {
        "id": "r5qLgV9Phhjf"
      }
    },
    {
      "cell_type": "markdown",
      "source": [
        "<details>\n",
        "<summary>\n",
        "この問題に関連する内容を復習するためのスライド\n",
        "</summary>\n",
        "\n",
        "構文の「if文」節\n",
        "</details>"
      ],
      "metadata": {
        "id": "UdjpbbsG_W-u"
      }
    },
    {
      "cell_type": "code",
      "source": [
        "# こちらのセルを実行してください。\n",
        "\n",
        "num_2 = 372\n",
        "\n",
        "if num_2 % 3 == 0:\n",
        "    if num_2 >= 400:\n",
        "        print(\"この数字は3の倍数で400よりも大きいです\")\n",
        "    else:\n",
        "        print(\"この数字は3の倍数で400よりも小さいです\")\n",
        "else:\n",
        "    if num_2 >= 400:\n",
        "        print(\"この数字は3の倍数ではなく400よりも大きいです\")\n",
        "    else:\n",
        "        print(\"この数字は3の倍数ではなく400よりも小さいです\")\n",
        "\n"
      ],
      "metadata": {
        "id": "UQkUV5zLhiXf",
        "colab": {
          "base_uri": "https://localhost:8080/"
        },
        "outputId": "6098ca36-8f97-45dd-8edf-94fb0dafbea4"
      },
      "execution_count": null,
      "outputs": [
        {
          "output_type": "stream",
          "name": "stdout",
          "text": [
            "この数字は3の倍数で400よりも小さいです\n"
          ]
        }
      ]
    },
    {
      "cell_type": "code",
      "source": [],
      "metadata": {
        "id": "vTMCn0dPZXGZ"
      },
      "execution_count": null,
      "outputs": []
    },
    {
      "cell_type": "markdown",
      "source": [
        "### 2.3 「for文を用いて、0から100までの数字を足し合わせた結果を変数に格納し、表示してください。」"
      ],
      "metadata": {
        "id": "YBXjB1Swhitz"
      }
    },
    {
      "cell_type": "markdown",
      "source": [],
      "metadata": {
        "id": "yiypaK_nmkHI"
      }
    },
    {
      "cell_type": "markdown",
      "source": [
        "<details>\n",
        "<summary>\n",
        "この問題に関連する内容を復習するためのスライド\n",
        "</summary>\n",
        "\n",
        "構文の「for文」節\n",
        "</details>"
      ],
      "metadata": {
        "id": "GhsXuN7WAX8O"
      }
    },
    {
      "cell_type": "code",
      "source": [
        "total_sum = 0\n",
        "for i in range(101):\n",
        "    total_sum += i\n",
        "print(total_sum)"
      ],
      "metadata": {
        "id": "av_yQ5txhjfT",
        "colab": {
          "base_uri": "https://localhost:8080/"
        },
        "outputId": "e40db3d7-051b-4d30-d9bf-11126a902e19"
      },
      "execution_count": null,
      "outputs": [
        {
          "output_type": "stream",
          "name": "stdout",
          "text": [
            "5050\n"
          ]
        }
      ]
    },
    {
      "cell_type": "code",
      "source": [],
      "metadata": {
        "id": "JQsnqhANm0w1"
      },
      "execution_count": null,
      "outputs": []
    },
    {
      "cell_type": "markdown",
      "source": [
        "### 2.4 「While文を用いて、計算結果が$10000$以上になったら足し合わせを終了するように、$0 + 1 + \\cdots$と$0$から順番に数字を足してください。その後、最終的な計算結果と、最後に足した数を表示してください。」"
      ],
      "metadata": {
        "id": "mVZ3RZF0hnfm"
      }
    },
    {
      "cell_type": "markdown",
      "source": [
        "<details>\n",
        "<summary>\n",
        "この問題に関連する内容を復習するためのスライド\n",
        "</summary>\n",
        "\n",
        "構文の「while文」節\n",
        "</details>"
      ],
      "metadata": {
        "id": "p5KKHltWAfjm"
      }
    },
    {
      "cell_type": "code",
      "source": [
        "sum = 0\n",
        "i = 0\n",
        "\n",
        "while sum < 10000:\n",
        "    i += 1\n",
        "    sum += i\n",
        "\n",
        "print(sum)\n",
        "print(i)\n"
      ],
      "metadata": {
        "id": "kbxk2JV0hpKY",
        "colab": {
          "base_uri": "https://localhost:8080/"
        },
        "outputId": "787f3cc1-f8d2-4cb2-ee86-5f771fb63bdd"
      },
      "execution_count": null,
      "outputs": [
        {
          "output_type": "stream",
          "name": "stdout",
          "text": [
            "10011\n",
            "141\n"
          ]
        }
      ]
    },
    {
      "cell_type": "markdown",
      "source": [
        "### 2.5 「次のセルでは、「定義していない変数名を使用している」ことによる例外が発生しています。その例外をキャッチし、「使用している変数名は定義されていません。」と表示するようにしてください。」"
      ],
      "metadata": {
        "id": "Ky3tGp1vbp27"
      }
    },
    {
      "cell_type": "markdown",
      "source": [
        "<details>\n",
        "<summary>\n",
        "この問題に関連する内容を復習するためのスライド\n",
        "</summary>\n",
        "\n",
        "構文の「例外処理」節\n",
        "</details>"
      ],
      "metadata": {
        "id": "vipLaDGSAhhN"
      }
    },
    {
      "cell_type": "code",
      "source": [
        "# こちらのセルを実行してください。\n",
        "name = 'ポチ'\n",
        "\n",
        "try:\n",
        "    print(poti)\n",
        "except:\n",
        "    print('使用している変数名は定義されていません')"
      ],
      "metadata": {
        "id": "MlOGUQHoDjWZ",
        "colab": {
          "base_uri": "https://localhost:8080/"
        },
        "outputId": "4a0db9ff-7504-4895-8907-8c29868eba05"
      },
      "execution_count": null,
      "outputs": [
        {
          "output_type": "stream",
          "name": "stdout",
          "text": [
            "使用している変数名は定義されていません\n"
          ]
        }
      ]
    },
    {
      "cell_type": "code",
      "source": [],
      "metadata": {
        "id": "UNCdV3WIcsEZ"
      },
      "execution_count": null,
      "outputs": []
    },
    {
      "cell_type": "markdown",
      "source": [
        "## 3. 関数・クラスについて学習します。　(5問)"
      ],
      "metadata": {
        "id": "CrSZoGS0apJ4"
      }
    },
    {
      "cell_type": "markdown",
      "source": [
        "### 3.1 「組み込み関数を用いて、次のlist_2を昇順にソートした結果を変数に代入して表示してください。」\n"
      ],
      "metadata": {
        "id": "ACbLEhQWNAau"
      }
    },
    {
      "cell_type": "markdown",
      "source": [
        "<details>\n",
        "<summary>\n",
        "この問題に関連する内容を復習するためのスライド\n",
        "</summary>\n",
        "\n",
        "関数・クラスの「組み込み関数」節\n",
        "</details>"
      ],
      "metadata": {
        "id": "oeSAbaEJAjkg"
      }
    },
    {
      "cell_type": "code",
      "source": [
        "# こちらのセルを実行してください。\n",
        "list_2 = [4, 8, 3.5, 1, 9, 2, 10.3]\n",
        "list_2.sort()\n",
        "print(list_2)\n",
        "\n"
      ],
      "metadata": {
        "id": "D8oHJcZkNSqF",
        "colab": {
          "base_uri": "https://localhost:8080/"
        },
        "outputId": "15890bc1-913d-4ad5-f979-6bcef7999d48"
      },
      "execution_count": null,
      "outputs": [
        {
          "output_type": "stream",
          "name": "stdout",
          "text": [
            "[1, 2, 3.5, 4, 8, 9, 10.3]\n"
          ]
        }
      ]
    },
    {
      "cell_type": "code",
      "source": [],
      "metadata": {
        "id": "TGa-PVmHZjVy"
      },
      "execution_count": null,
      "outputs": []
    },
    {
      "cell_type": "markdown",
      "source": [
        "### 3.2 「数値型のデータが格納されたリストを一つ引数に持ち、そのリストの要素の最大値を戻り値として返すような関数を定義してください。その後、定義した関数にlist_3を渡した戻り値を変数に代入し、表示してください。」\n"
      ],
      "metadata": {
        "id": "Fhb9gV0tNQTK"
      }
    },
    {
      "cell_type": "markdown",
      "source": [
        "<details>\n",
        "<summary>\n",
        "この問題に関連する内容を復習するためのスライド\n",
        "</summary>\n",
        "\n",
        "関数・クラスの「関数」節\n",
        "</details>"
      ],
      "metadata": {
        "id": "sj-tJ-7dA0lI"
      }
    },
    {
      "cell_type": "code",
      "source": [
        "# こちらのセルを実行してください。\n",
        "list_3 = [3, 5, 2, 8, 10, 9]\n",
        "\n",
        "def max_list(list_3):\n",
        "    max_value = list_3[0]\n",
        "    for i in list_3:\n",
        "        if i > max_value:\n",
        "            max_value = i\n",
        "    return max_value\n",
        "\n",
        "print(max_list(list_3))\n"
      ],
      "metadata": {
        "id": "zaMbaOdoPatY",
        "colab": {
          "base_uri": "https://localhost:8080/"
        },
        "outputId": "a0998cd3-bbf9-4bd3-8f0e-8166751429c8"
      },
      "execution_count": null,
      "outputs": [
        {
          "output_type": "stream",
          "name": "stdout",
          "text": [
            "10\n"
          ]
        }
      ]
    },
    {
      "cell_type": "code",
      "source": [],
      "metadata": {
        "id": "-0TcepzlNTE0"
      },
      "execution_count": null,
      "outputs": []
    },
    {
      "cell_type": "markdown",
      "source": [
        "### 3.3「name, speciesという2つのアトリビュートを持ち、それらをコンストラクタで同名のインスタンス変数として定義するようなクラスAnimalを定義してください。またAnimalクラスに、「こんにちは、私の名前は{self.name}です」と表示するようなgreetingという名前のメソッドを定義してください。」"
      ],
      "metadata": {
        "id": "A7ZalTb_MXRz"
      }
    },
    {
      "cell_type": "markdown",
      "source": [
        "<details>\n",
        "<summary>\n",
        "この問題に関連する内容を復習するためのスライド\n",
        "</summary>\n",
        "\n",
        "関数・クラスの「クラス」節\n",
        "</details>"
      ],
      "metadata": {
        "id": "EvWCl0NUA2Rg"
      }
    },
    {
      "cell_type": "code",
      "source": [
        "class animal:\n",
        "    def __init__(self, name, species):\n",
        "        self.name = name\n",
        "        self.species = species\n",
        "\n",
        "    def greeting(self):\n",
        "        print(f'こんにちは、私の名前は{self.name}です')"
      ],
      "metadata": {
        "id": "IrIMvp2Haoak"
      },
      "execution_count": null,
      "outputs": []
    },
    {
      "cell_type": "markdown",
      "source": [
        "### 3.4 「先ほどのAnimalクラスのnameを'ココ', speciesを'虎'としたインスタンスを生成してください。また、生成したインスタンスのspecies属性を表示して、先ほど定義したメソッドを使用してください。」"
      ],
      "metadata": {
        "id": "Y2SeDddcMZWD"
      }
    },
    {
      "cell_type": "markdown",
      "source": [
        "<details>\n",
        "<summary>\n",
        "この問題に関連する内容を復習するためのスライド\n",
        "</summary>\n",
        "\n",
        "関数・クラスの「クラス」節\n",
        "</details>"
      ],
      "metadata": {
        "id": "_tMrxEWzA6vp"
      }
    },
    {
      "cell_type": "code",
      "source": [
        "class animal:\n",
        "  def __init__(self, name, species):\n",
        "    self.name = name\n",
        "    self.species = species\n",
        "\n",
        "  def greeting(self):\n",
        "    print(f'こんにちは 私の名前は{self.name}です')\n",
        "\n",
        "animal = animal ('ココ', '虎')\n",
        "print(animal.species)\n",
        "animal.greeting()"
      ],
      "metadata": {
        "id": "S2jvWOv8MfAp",
        "colab": {
          "base_uri": "https://localhost:8080/"
        },
        "outputId": "7f54bcae-5633-4bec-8001-d35b3afa233a"
      },
      "execution_count": null,
      "outputs": [
        {
          "output_type": "stream",
          "name": "stdout",
          "text": [
            "虎\n",
            "こんにちは 私の名前はココです\n"
          ]
        }
      ]
    },
    {
      "cell_type": "markdown",
      "source": [
        "### 3.5 「先程のAnimalクラスを継承したDogクラスを定義してください。Dogクラスは、引数にnameとageを取り、同名のインスタンス変数として定義してください。また、species属性は'dog'です。さらに、greetingメソッドをオーバーライドし、さらに’年齢は{self.age}歳です’と表示するようなgreeting_plusメソッドを定義してください。その後、nameを'ポチ', ageを'18'としたDogクラスのインスタンスを生成し、そのインタンスの`species`属性を表示し、greeting_plusメソッドを使用してください。」"
      ],
      "metadata": {
        "id": "-owIvsGxM58I"
      }
    },
    {
      "cell_type": "markdown",
      "source": [
        "<details>\n",
        "<summary>\n",
        "この問題に関連する内容を復習するためのスライド\n",
        "</summary>\n",
        "\n",
        "関数・クラスの「クラス継承」節\n",
        "</details>"
      ],
      "metadata": {
        "id": "jEf3LmHhA8uD"
      }
    },
    {
      "cell_type": "code",
      "source": [
        "class animal:\n",
        "    def __init__(self, name, age, species):\n",
        "        self.name = name\n",
        "        self.age = age\n",
        "        self.species = species\n",
        "\n",
        "    def greeting_plus(self):\n",
        "        print(f'年齢は{self.age}歳です')\n",
        "\n",
        "class dog(animal):\n",
        "    def __init__(self, name, age):\n",
        "        super().__init__(name, age, 'dog')\n",
        "\n",
        "    def greeting(self):\n",
        "        print(f'こんにちは、私は犬の{self.name}です')\n",
        "\n",
        "    def greeting_plus(self):\n",
        "        self.greeting()\n",
        "        print(f'年齢は{self.age}歳です')\n",
        "\n",
        "name = 'ポチ'\n",
        "age = '18'\n",
        "\n",
        "dog_instance = dog(name, age)\n",
        "print(dog_instance.species)\n",
        "dog_instance.greeting_plus()\n"
      ],
      "metadata": {
        "colab": {
          "base_uri": "https://localhost:8080/"
        },
        "id": "AiUZ9fWx8rQL",
        "outputId": "a4ac3992-13bb-4121-ab50-ef155f5976f7"
      },
      "execution_count": null,
      "outputs": [
        {
          "output_type": "stream",
          "name": "stdout",
          "text": [
            "dog\n",
            "こんにちは、私は犬のポチです\n",
            "年齢は18歳です\n"
          ]
        }
      ]
    }
  ]
}